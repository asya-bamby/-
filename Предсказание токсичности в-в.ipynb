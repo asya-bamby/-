{
  "cells": [
    {
      "cell_type": "markdown",
      "metadata": {
        "id": "7y2kPh4NtfJt"
      },
      "source": [
        "# Проект по предсказанию токсичности соединений\n",
        "Что нужно сделать:\n",
        "\n",
        "\n",
        "1. Проанализировать данные, + за визуализацию\n",
        "2. Предобработать данные, чтобы улучшить качество модели. + за инсайты, если что-то найдется\n",
        "3. Обучить модель и провалидировать ее. Метрика: RMSE\n",
        "4. Проверить модель на test данных и прислать результаты вместе с ноутбуком\n",
        "\n"
      ]
    },
    {
      "cell_type": "markdown",
      "metadata": {
        "id": "35D7AC1vtciE"
      },
      "source": [
        "## Библиотеки и загрузка данных"
      ]
    },
    {
      "cell_type": "markdown",
      "metadata": {
        "id": "NIP3_5qVvz3i"
      },
      "source": [
        "rdkit – библиотека для работы с химическими данными."
      ]
    },
    {
      "cell_type": "code",
      "execution_count": 3,
      "metadata": {
        "colab": {
          "base_uri": "https://localhost:8080/"
        },
        "id": "I5VdAr1tQE3p",
        "outputId": "e48bb3dc-c21c-4876-ec84-9b8c897d3144"
      },
      "outputs": [
        {
          "name": "stdout",
          "output_type": "stream",
          "text": [
            "Requirement already satisfied: rdkit in c:\\pyton\\lib\\site-packages (2025.3.2)\n",
            "Requirement already satisfied: numpy in c:\\pyton\\lib\\site-packages (from rdkit) (1.21.5)\n",
            "Requirement already satisfied: Pillow in c:\\pyton\\lib\\site-packages (from rdkit) (9.0.1)\n"
          ]
        }
      ],
      "source": [
        "!pip3 install rdkit"
      ]
    },
    {
      "cell_type": "code",
      "execution_count": 4,
      "metadata": {
        "id": "lJCmZv4IOc6C"
      },
      "outputs": [],
      "source": [
        "\n",
        "import pandas as pd\n",
        "import numpy as np\n",
        "from IPython.display import display # for color differentiation of annotations and documentation\n",
        "\n",
        "# working with charts\n",
        "import matplotlib.pyplot as plt\n",
        "import seaborn as sns\n",
        "import plotly.express as px"
      ]
    },
    {
      "cell_type": "code",
      "execution_count": 5,
      "metadata": {
        "id": "oTnyUR4uO1jv"
      },
      "outputs": [],
      "source": [
        "train = pd.read_csv(\"./train.csv\")"
      ]
    },
    {
      "cell_type": "code",
      "execution_count": 6,
      "metadata": {
        "colab": {
          "base_uri": "https://localhost:8080/",
          "height": 206
        },
        "id": "QclnqYq3O6yf",
        "outputId": "18df0d68-bca8-4d14-d2ae-4373eff2067b"
      },
      "outputs": [
        {
          "data": {
            "text/html": [
              "<div>\n",
              "<style scoped>\n",
              "    .dataframe tbody tr th:only-of-type {\n",
              "        vertical-align: middle;\n",
              "    }\n",
              "\n",
              "    .dataframe tbody tr th {\n",
              "        vertical-align: top;\n",
              "    }\n",
              "\n",
              "    .dataframe thead th {\n",
              "        text-align: right;\n",
              "    }\n",
              "</style>\n",
              "<table border=\"1\" class=\"dataframe\">\n",
              "  <thead>\n",
              "    <tr style=\"text-align: right;\">\n",
              "      <th></th>\n",
              "      <th>SMILES</th>\n",
              "      <th>activity</th>\n",
              "    </tr>\n",
              "  </thead>\n",
              "  <tbody>\n",
              "    <tr>\n",
              "      <th>0</th>\n",
              "      <td>OCC=C</td>\n",
              "      <td>5.0</td>\n",
              "    </tr>\n",
              "    <tr>\n",
              "      <th>1</th>\n",
              "      <td>CO/N=C(/C(=O)OC)\\C1=C(COC2=C(C)C=CC=C2)C=CC=C1</td>\n",
              "      <td>94.0</td>\n",
              "    </tr>\n",
              "    <tr>\n",
              "      <th>2</th>\n",
              "      <td>COC(=O)NS(=O)(=O)C1=CC=C(N)C=C1</td>\n",
              "      <td>5.4</td>\n",
              "    </tr>\n",
              "    <tr>\n",
              "      <th>3</th>\n",
              "      <td>CCCCC(CC)C(O)=O</td>\n",
              "      <td>-8.2</td>\n",
              "    </tr>\n",
              "    <tr>\n",
              "      <th>4</th>\n",
              "      <td>COC(=O)C1=C(CC(C)C)C(C2=NCCS2)=C(N=C1C(F)F)C(F...</td>\n",
              "      <td>26.2</td>\n",
              "    </tr>\n",
              "  </tbody>\n",
              "</table>\n",
              "</div>"
            ],
            "text/plain": [
              "                                              SMILES  activity\n",
              "0                                              OCC=C       5.0\n",
              "1     CO/N=C(/C(=O)OC)\\C1=C(COC2=C(C)C=CC=C2)C=CC=C1      94.0\n",
              "2                    COC(=O)NS(=O)(=O)C1=CC=C(N)C=C1       5.4\n",
              "3                                    CCCCC(CC)C(O)=O      -8.2\n",
              "4  COC(=O)C1=C(CC(C)C)C(C2=NCCS2)=C(N=C1C(F)F)C(F...      26.2"
            ]
          },
          "execution_count": 6,
          "metadata": {},
          "output_type": "execute_result"
        }
      ],
      "source": [
        "train.head()"
      ]
    },
    {
      "cell_type": "code",
      "execution_count": 7,
      "metadata": {},
      "outputs": [
        {
          "data": {
            "text/html": [
              "<div>\n",
              "<style scoped>\n",
              "    .dataframe tbody tr th:only-of-type {\n",
              "        vertical-align: middle;\n",
              "    }\n",
              "\n",
              "    .dataframe tbody tr th {\n",
              "        vertical-align: top;\n",
              "    }\n",
              "\n",
              "    .dataframe thead th {\n",
              "        text-align: right;\n",
              "    }\n",
              "</style>\n",
              "<table border=\"1\" class=\"dataframe\">\n",
              "  <thead>\n",
              "    <tr style=\"text-align: right;\">\n",
              "      <th></th>\n",
              "      <th>Unnamed: 0</th>\n",
              "      <th>SMILES</th>\n",
              "    </tr>\n",
              "  </thead>\n",
              "  <tbody>\n",
              "    <tr>\n",
              "      <th>0</th>\n",
              "      <td>0</td>\n",
              "      <td>CC(O)CCO</td>\n",
              "    </tr>\n",
              "    <tr>\n",
              "      <th>1</th>\n",
              "      <td>1</td>\n",
              "      <td>CCCCOCCOC(=O)COC1=C(Cl)C=C(Cl)C=C1</td>\n",
              "    </tr>\n",
              "    <tr>\n",
              "      <th>2</th>\n",
              "      <td>2</td>\n",
              "      <td>CO/N=C(/C1=NOCCO1)\\C2=C(OC3=NC=NC(OC4=CC=CC=C4...</td>\n",
              "    </tr>\n",
              "    <tr>\n",
              "      <th>3</th>\n",
              "      <td>3</td>\n",
              "      <td>C=CC(=O)NCNC(=O)C=C</td>\n",
              "    </tr>\n",
              "    <tr>\n",
              "      <th>4</th>\n",
              "      <td>4</td>\n",
              "      <td>CC1=CC(=CC=C1)[N+]([O-])=O</td>\n",
              "    </tr>\n",
              "  </tbody>\n",
              "</table>\n",
              "</div>"
            ],
            "text/plain": [
              "   Unnamed: 0                                             SMILES\n",
              "0           0                                           CC(O)CCO\n",
              "1           1                 CCCCOCCOC(=O)COC1=C(Cl)C=C(Cl)C=C1\n",
              "2           2  CO/N=C(/C1=NOCCO1)\\C2=C(OC3=NC=NC(OC4=CC=CC=C4...\n",
              "3           3                                C=CC(=O)NCNC(=O)C=C\n",
              "4           4                         CC1=CC(=CC=C1)[N+]([O-])=O"
            ]
          },
          "execution_count": 7,
          "metadata": {},
          "output_type": "execute_result"
        }
      ],
      "source": [
        "test = pd.read_csv(\"./test_only_smiles.csv\")\n",
        "test.head()\n"
      ]
    },
    {
      "cell_type": "markdown",
      "metadata": {
        "id": "PGcoWfCbtQUc"
      },
      "source": [
        "## Анализ данных"
      ]
    },
    {
      "cell_type": "markdown",
      "metadata": {
        "id": "kVUiVsozv5Mb"
      },
      "source": [
        "#### 1) Проведем детальный анализ имеющихся данных \n",
        "Cмотрим структуру, типы признаков"
      ]
    },
    {
      "cell_type": "code",
      "execution_count": 8,
      "metadata": {},
      "outputs": [
        {
          "name": "stdout",
          "output_type": "stream",
          "text": [
            "<class 'pandas.core.frame.DataFrame'>\n",
            "RangeIndex: 759 entries, 0 to 758\n",
            "Data columns (total 2 columns):\n",
            " #   Column    Non-Null Count  Dtype  \n",
            "---  ------    --------------  -----  \n",
            " 0   SMILES    759 non-null    object \n",
            " 1   activity  759 non-null    float64\n",
            "dtypes: float64(1), object(1)\n",
            "memory usage: 12.0+ KB\n"
          ]
        },
        {
          "data": {
            "text/plain": [
              "SMILES      0\n",
              "activity    0\n",
              "dtype: int64"
            ]
          },
          "metadata": {},
          "output_type": "display_data"
        }
      ],
      "source": [
        "train.info()\n",
        "display(train.isna().sum())"
      ]
    },
    {
      "cell_type": "code",
      "execution_count": 9,
      "metadata": {},
      "outputs": [
        {
          "name": "stdout",
          "output_type": "stream",
          "text": [
            "<class 'pandas.core.frame.DataFrame'>\n",
            "RangeIndex: 253 entries, 0 to 252\n",
            "Data columns (total 2 columns):\n",
            " #   Column      Non-Null Count  Dtype \n",
            "---  ------      --------------  ----- \n",
            " 0   Unnamed: 0  253 non-null    int64 \n",
            " 1   SMILES      253 non-null    object\n",
            "dtypes: int64(1), object(1)\n",
            "memory usage: 4.1+ KB\n"
          ]
        }
      ],
      "source": [
        "test.info()"
      ]
    },
    {
      "cell_type": "markdown",
      "metadata": {},
      "source": [
        "- NAN нет\n",
        "- нулей нет\n",
        "- у столбцов SMILES \"проблемный\" формат - object. Который не подходит для машинного обучения -> надо преобразовывать.\n",
        "- у колонки activity Dtype с плавающей точкой подходит для дальнейшей работы.\n",
        "\n",
        "#### 2) Выявляем выбросы и анамалии.\n",
        "\n",
        "Т.к действие это выполнялось в ранних проектах, воспользуюсь ранее написанной функцией"
      ]
    },
    {
      "cell_type": "code",
      "execution_count": 10,
      "metadata": {},
      "outputs": [],
      "source": [
        "def box_histplot(data: pd.DataFrame, column: str):\n",
        "    \"\"\"\n",
        "    Создается коробочная диаграмма и гистограмма для указанного столбца во фрейме данных, игнорируя строки с нулевыми значениями.\n",
        "    \n",
        "    Параметры:\n",
        "    - данные: фрейм данных pandas, содержащий данные\n",
        "    - столбец: строка, название столбца для построения графика\n",
        "    \n",
        "    Возвращается:\n",
        "    - Нет (отображает график)\n",
        "    \"\"\"\n",
        "    \n",
        "       \n",
        "    # Create the boxplot\n",
        "    fig, axes = plt.subplots(nrows=1, ncols=2, figsize=(15, 4))\n",
        "    histplot = sns.histplot(data=data, x=column, ax=axes[0])\n",
        "    histplot.set_title(f\"Histplot for {column} (Cleaned Full Square Distribution)\")\n",
        "    boxplot = sns.boxplot(data=data, x=column, ax=axes[1])\n",
        "    boxplot.set_title(f\"Boxplot for {column}\")\n",
        "    plt.show()\n",
        "\n",
        "\n",
        "     \n",
        "\n",
        "def outliers_iqr(data: pd.DataFrame,  column: str) -> tuple[pd.DataFrame, pd.DataFrame]:\n",
        "    \"\"\"\n",
        "    Определяет и выделяет выбросы из набора данных, используя метод IQR (межквартильный диапазон).\n",
        "    \n",
        "    Параметры:\n",
        "    - - данные (pd.DataFrame): входной фрейм данных, содержащий данные.\n",
        "    - - столбец (str): имя столбца во фрейме данных для анализа на наличие выбросов.\n",
        "    \n",
        "    Возвращается:\n",
        "    - кортеж[pd.DataFrame, pd.DataFrame данных]: Кортеж, содержащий два фрейма данных:\n",
        "        - - Первый фрейм данных содержит строки с выбросами.\n",
        "        - - Второй фрейм данных содержит строки без выбросов (очищенные данные).\n",
        "    \"\"\"\n",
        "    \n",
        "    x = data[column]\n",
        "    quartile_1, quartile_3 = x.quantile(0.25), x.quantile(0.75)\n",
        "    iqr = quartile_3 - quartile_1\n",
        "    \n",
        "    # Determine the lower and upper bounds for identifying outliers\n",
        "    lower_bound = quartile_1 - (iqr * 1.5)  \n",
        "    upper_bound = quartile_3 + (iqr * 1.5)  \n",
        "    outliers = data[(x < lower_bound) | (x > upper_bound)]\n",
        "    cleaned = data[(x >= lower_bound) & (x <= upper_bound)]\n",
        "    return outliers, cleaned"
      ]
    },
    {
      "cell_type": "code",
      "execution_count": 11,
      "metadata": {},
      "outputs": [
        {
          "data": {
            "image/png": "[encoded data removed]",
            "text/plain": [
              "<Figure size 1080x288 with 2 Axes>"
            ]
          },
          "metadata": {
            "needs_background": "light"
          },
          "output_type": "display_data"
        },
        {
          "name": "stdout",
          "output_type": "stream",
          "text": [
            "Empty DataFrame\n",
            "Columns: [SMILES, activity]\n",
            "Index: []\n",
            "Total outliers - 0\n"
          ]
        }
      ],
      "source": [
        "box_histplot(train, 'activity')\n",
        "outliers, cleaned = outliers_iqr(train, 'activity')\n",
        "print (outliers)\n",
        "print (f'Total outliers - {outliers.shape[0]}')"
      ]
    },
    {
      "cell_type": "markdown",
      "metadata": {},
      "source": [
        "Для корректной оценки выбросов, рассмотрим теоретическую основу параметра \"activity\"\n",
        "Итог поисков, это или:\n",
        "1) «Protein binding potency GSH»\n",
        "Основан на взаимодействии химических веществ с белками по механизмам: SN2 и присоединение по Михаэлю; основан на эмпирических данных о реакционной способности тиолов, выраженной значением RC50 in Chemico; выделено 137 структурных категорий, разделенных на 5 групп по активности:\n",
        "- чрезвычайно реактивная (RC50 <0,099 ммоль/л);\n",
        "- высоко реактивная (RC50 = 0,100 – 0,990 ммоль/л);\n",
        "- умеренно реактивная (RC50 = 1,000, этап 15,000 ммоль/л);\n",
        "- слабореактивная (RC50 = 16,000 – 70,000 ммоль/л);\n",
        "- сомнительная (RC50 = 71,000 – 135,000 ммоль/л).\n",
        "\n",
        "2) Константы заместителей\n",
        "Это из QSAR. Это константы заместителей вошли в практику QSAR после появления уравнения Ганча-Фуджиты, связывающего биологическую активность с константами заместителей и значением липофильности.\n",
        "\n",
        "3) ИИ отправил меня на сайт проекта Tox21.gov Но похожей баз данных я не нашла, данное предположение источника - сомнительное и не отвечает на мой вопрос.\n",
        "\n",
        "Т.к документации к датасету нет, я не могу понять какие параметры токсичности применять? Отрицательные значения говорят о токсичности? Или наоборот? \n",
        "\n",
        "Принимаю решение предсказать пока только активность, цель определить токсичность - игнорируем.\n",
        "\n",
        "Таким образом - выбросов не обнаружено."
      ]
    },
    {
      "cell_type": "markdown",
      "metadata": {},
      "source": [
        "#### 3) Определить вид распределения\n",
        "\n",
        "Исходя из графиков выше, можно сказать что признак \"activity\" не имеет нормального распределения. Давайте узнаем какое же оно.\n"
      ]
    },
    {
      "cell_type": "code",
      "execution_count": 12,
      "metadata": {},
      "outputs": [],
      "source": [
        "import scipy.stats as stats\n",
        "import numpy as np"
      ]
    },
    {
      "cell_type": "code",
      "execution_count": 13,
      "metadata": {},
      "outputs": [
        {
          "name": "stdout",
          "output_type": "stream",
          "text": [
            "norm - KS test p-value: 0.000000000\n",
            "lognorm - KS test p-value: 0.000000000\n",
            "expon - KS test p-value: 0.000000000\n",
            "beta - KS test p-value: 0.000000000\n",
            "gamma - KS test p-value: 0.000001121\n"
          ]
        }
      ],
      "source": [
        "activity = train['activity']\n",
        "\n",
        "# Fit different distributions\n",
        "distributions = ['norm', 'lognorm', 'expon', 'beta', 'gamma']\n",
        "for dist_name in distributions:\n",
        "    dist = getattr(stats, dist_name)\n",
        "    params = dist.fit(activity)\n",
        "    ks_stat, p_value = stats.kstest(activity, dist_name, args=params)\n",
        "    print(f\"{dist_name} - KS test p-value: {p_value:.9f}\")"
      ]
    },
    {
      "cell_type": "code",
      "execution_count": 14,
      "metadata": {},
      "outputs": [
        {
          "data": {
            "image/png": "[encoded data removed]",
            "text/plain": [
              "<Figure size 432x288 with 1 Axes>"
            ]
          },
          "metadata": {
            "needs_background": "light"
          },
          "output_type": "display_data"
        },
        {
          "data": {
            "image/png": "[encoded data removed]",
            "text/plain": [
              "<Figure size 432x288 with 1 Axes>"
            ]
          },
          "metadata": {
            "needs_background": "light"
          },
          "output_type": "display_data"
        },
        {
          "data": {
            "image/png": "[encoded data removed]",
            "text/plain": [
              "<Figure size 432x288 with 1 Axes>"
            ]
          },
          "metadata": {
            "needs_background": "light"
          },
          "output_type": "display_data"
        },
        {
          "data": {
            "image/png": "[encoded data removed]",
            "text/plain": [
              "<Figure size 432x288 with 1 Axes>"
            ]
          },
          "metadata": {
            "needs_background": "light"
          },
          "output_type": "display_data"
        },
        {
          "data": {
            "image/png": "[encoded data removed]",
            "text/plain": [
              "<Figure size 432x288 with 1 Axes>"
            ]
          },
          "metadata": {
            "needs_background": "light"
          },
          "output_type": "display_data"
        },
        {
          "data": {
            "image/png": "[encoded data removed]",
            "text/plain": [
              "<Figure size 432x288 with 1 Axes>"
            ]
          },
          "metadata": {
            "needs_background": "light"
          },
          "output_type": "display_data"
        },
        {
          "data": {
            "image/png": "[encoded data removed]",
            "text/plain": [
              "<Figure size 432x288 with 1 Axes>"
            ]
          },
          "metadata": {
            "needs_background": "light"
          },
          "output_type": "display_data"
        }
      ],
      "source": [
        "import numpy as np\n",
        "import scipy.stats as stats\n",
        "import matplotlib.pyplot as plt\n",
        "import warnings\n",
        "\n",
        "data = train['activity'].values  \n",
        "\n",
        "distributions_to_check = ['norm', 'expon', 'lognorm', 'gamma', 'beta', 'uniform', 'triang']\n",
        "\n",
        "for dist_name in distributions_to_check:\n",
        "    dist = getattr(stats, dist_name)\n",
        "    \n",
        "    with warnings.catch_warnings():\n",
        "        warnings.filterwarnings('ignore')\n",
        "        \n",
        "        try:\n",
        "            params = dist.fit(data)\n",
        "            stats.probplot(data, dist=dist, sparams=params, plot=plt)\n",
        "            plt.title(f\"QQ-график для {dist_name}\")\n",
        "            plt.grid(True)\n",
        "            plt.show()\n",
        "        except Exception as e:\n",
        "            print(f\"{dist_name} не удалось подогнать: {e}\")"
      ]
    },
    {
      "cell_type": "markdown",
      "metadata": {},
      "source": [
        "Исходя из QQ графиков, распределение категориального признака либо гамма, либо непрерывное равномерное. Но гамма использовать я не могу, ибо нули или отрицательные значения недопустимы, потому что гамма-распределение определено только для положительных чисел.\n",
        "\n",
        "Таким образом в дальнейшем опираемся на непрерывное равномерное распределение.\n"
      ]
    },
    {
      "cell_type": "markdown",
      "metadata": {
        "id": "vau0rOhXtSqw"
      },
      "source": [
        "## Предобработка данных"
      ]
    },
    {
      "cell_type": "code",
      "execution_count": 15,
      "metadata": {
        "id": "TtNQuPTVPQnB"
      },
      "outputs": [],
      "source": [
        "from rdkit import Chem\n",
        "from rdkit.Chem import AllChem"
      ]
    },
    {
      "cell_type": "markdown",
      "metadata": {
        "id": "DIimsHwFwCTN"
      },
      "source": [
        "SMILES – это форма записи молекулы текстом. Модели не понимают текст (если мы не говорим о специальных моделях), поэтому текст нужно превратить в числа. Один из способов превратить молекулы в числа – это fingerprints."
      ]
    },
    {
      "cell_type": "code",
      "execution_count": 16,
      "metadata": {
        "id": "GBIBYFvtP3ue"
      },
      "outputs": [],
      "source": [
        "from rdkit.Chem.rdFingerprintGenerator import GetMorganGenerator\n",
        "def smiles_to_fp(smiles_list, radius=2, nBits=1024):\n",
        "    '''Convert SMILES to Morgan fingerprints using MorganGenerator (recommended approach)'''\n",
        "    generator = GetMorganGenerator(radius=radius, fpSize=nBits)\n",
        "    fingerprints = []\n",
        "\n",
        "    for s in smiles_list:\n",
        "        mol = Chem.MolFromSmiles(s)\n",
        "        if mol is not None:\n",
        "            fp = generator.GetFingerprint(mol)\n",
        "            fingerprints.append(np.array(fp))\n",
        "        else:\n",
        "            # Обработка ошибочной строки (можно заменить на нули или выбросить)\n",
        "            fingerprints.append(np.zeros(nBits, dtype=int))\n",
        "\n",
        "    return np.array(fingerprints)\n",
        "\n",
        "# Преобразование SMILES из train\n",
        "X_train = smiles_to_fp(train.SMILES)\n",
        "\n",
        "# Преобразование SMILES из test\n",
        "X_test = smiles_to_fp(test.SMILES)\n"
      ]
    },
    {
      "cell_type": "markdown",
      "metadata": {},
      "source": [
        "Я получила матрицу признаков: X_train — это numpy.ndarray размерности (N, 1024)\n",
        "где N — количество строк (молекул), а 1024 — размерность фингерпринта."
      ]
    },
    {
      "cell_type": "markdown",
      "metadata": {},
      "source": [
        "Так как выбросов мы не обнаружили, предобработка \"activity\" не требуется."
      ]
    },
    {
      "cell_type": "markdown",
      "metadata": {
        "id": "YfjKpNUTtM1o"
      },
      "source": [
        "## Обучение модели"
      ]
    },
    {
      "cell_type": "code",
      "execution_count": 17,
      "metadata": {},
      "outputs": [],
      "source": [
        "activity = train['activity']\n"
      ]
    },
    {
      "cell_type": "markdown",
      "metadata": {},
      "source": [
        "#### 1) Random Forest Regressor"
      ]
    },
    {
      "cell_type": "code",
      "execution_count": 18,
      "metadata": {
        "id": "BX1TY1oxP_w6"
      },
      "outputs": [],
      "source": [
        "from sklearn.ensemble import RandomForestRegressor\n"
      ]
    },
    {
      "cell_type": "code",
      "execution_count": 19,
      "metadata": {
        "colab": {
          "base_uri": "https://localhost:8080/",
          "height": 75
        },
        "id": "bT5A1HiwQA9e",
        "outputId": "41fc258a-ead7-463f-b287-6bfe4c9ad5e6"
      },
      "outputs": [],
      "source": [
        "model_RandomForest = RandomForestRegressor()\n",
        "model_RandomForest.fit(X_train, train.activity)\n",
        "y_pred_RandomForest = model_RandomForest.predict(X_test)"
      ]
    },
    {
      "cell_type": "markdown",
      "metadata": {},
      "source": [
        "#### 2) XGBoost (Градиентный бустинг)"
      ]
    },
    {
      "cell_type": "code",
      "execution_count": null,
      "metadata": {},
      "outputs": [
        {
          "name": "stderr",
          "output_type": "stream",
          "text": [
            "WARNING: Skipping xgboost as it is not installed.\n"
          ]
        },
        {
          "name": "stdout",
          "output_type": "stream",
          "text": [
            "Files removed: 6 (79 kB)\n"
          ]
        }
      ],
      "source": [
        "#Удаляю потом снова скачиваю, так как при повтороном запуске\n",
        "#блокнота вылезает ошибка установки.\n",
        "!pip uninstall xgboost -y\n",
        "!pip cache purge"
      ]
    },
    {
      "cell_type": "code",
      "execution_count": null,
      "metadata": {},
      "outputs": [
        {
          "name": "stderr",
          "output_type": "stream",
          "text": [
            "\"sudo\" �� ���� ����७��� ��� ���譥�\n",
            "��������, �ᯮ��塞�� �ணࠬ��� ��� ������ 䠩���.\n"
          ]
        },
        {
          "name": "stdout",
          "output_type": "stream",
          "text": [
            "Collecting pip\n",
            "  Downloading pip-25.1.1-py3-none-any.whl.metadata (3.6 kB)\n",
            "Downloading pip-25.1.1-py3-none-any.whl (1.8 MB)\n",
            "   ---------------------------------------- 1.8/1.8 MB 529.3 kB/s eta 0:00:00\n"
          ]
        },
        {
          "name": "stderr",
          "output_type": "stream",
          "text": [
            "ERROR: To modify pip, please run the following command:\n",
            "c:\\pyton\\python.exe -m pip install --upgrade pip\n"
          ]
        },
        {
          "name": "stdout",
          "output_type": "stream",
          "text": [
            "Collecting xgboost==2.1.4\n",
            "  Using cached xgboost-2.1.4-py3-none-win_amd64.whl.metadata (2.1 kB)\n",
            "Requirement already satisfied: numpy in c:\\pyton\\lib\\site-packages (from xgboost==2.1.4) (1.21.5)\n",
            "Requirement already satisfied: scipy in c:\\pyton\\lib\\site-packages (from xgboost==2.1.4) (1.7.3)\n",
            "Using cached xgboost-2.1.4-py3-none-win_amd64.whl (124.9 MB)\n",
            "Installing collected packages: xgboost\n",
            "Successfully installed xgboost-2.1.4\n"
          ]
        }
      ],
      "source": [
        "!sudo -H pip install --upgrade pip\n",
        "!pip install --upgrade pip\n",
        "!pip install xgboost==2.1.4"
      ]
    },
    {
      "cell_type": "code",
      "execution_count": 29,
      "metadata": {},
      "outputs": [],
      "source": [
        "from xgboost import XGBRegressor\n",
        "model_xgboost = XGBRegressor()\n",
        "model_xgboost.fit(X_train, activity)\n",
        "y_pred_xgboost = model_xgboost.predict(X_test)"
      ]
    },
    {
      "cell_type": "markdown",
      "metadata": {},
      "source": [
        "#### 3) Support Vector Regression (SVR)"
      ]
    },
    {
      "cell_type": "code",
      "execution_count": 30,
      "metadata": {},
      "outputs": [],
      "source": [
        "from sklearn.svm import SVR\n",
        "from sklearn.model_selection import train_test_split\n",
        "from sklearn.preprocessing import StandardScaler\n",
        "from sklearn.metrics import mean_squared_error, r2_score\n",
        "import numpy as np"
      ]
    },
    {
      "cell_type": "code",
      "execution_count": 31,
      "metadata": {},
      "outputs": [],
      "source": [
        "# Масштабируем признаки\n",
        "scaler = StandardScaler()\n",
        "X_tr_scaled = scaler.fit_transform(X_train)\n",
        "X_te_scaled = scaler.transform(X_test)\n",
        "\n",
        "# Создаём и обучаем SVR (ядро RBF — хорошее универсальное решение)\n",
        "model = SVR(kernel='rbf', C=1.0, epsilon=0.1)\n",
        "model.fit(X_tr_scaled, activity)\n",
        "\n",
        "# Делаем предсказания на тесте\n",
        "y_pred_SVR = model.predict(X_te_scaled)\n"
      ]
    },
    {
      "cell_type": "markdown",
      "metadata": {
        "id": "bX2WpG7ltKKm"
      },
      "source": [
        "## Валидация"
      ]
    },
    {
      "cell_type": "markdown",
      "metadata": {},
      "source": [
        "### Оценим качество обученных моделей\n",
        "\n",
        "\n",
        "- Я не могу посчитать меторики качества на test, т.к там нет значений \"activity\"\n",
        "- Создаю еще одну тестовую выборку для оценки метрик.\n",
        "\n",
        "\n",
        "#### 1) Random Forest Regressor"
      ]
    },
    {
      "cell_type": "code",
      "execution_count": 32,
      "metadata": {},
      "outputs": [
        {
          "name": "stdout",
          "output_type": "stream",
          "text": [
            "Валидация на hold-out части train:\n",
            "MSE: 594.5929\n",
            "RMSE: 24.3843\n",
            "MAE: 18.8686\n",
            "R2: 0.5376\n"
          ]
        }
      ],
      "source": [
        "from sklearn.ensemble import RandomForestRegressor\n",
        "from sklearn.model_selection import train_test_split\n",
        "from sklearn.metrics import mean_squared_error, mean_absolute_error, r2_score\n",
        "\n",
        "# y_train — вектор активности из train\n",
        "y_train = train.activity.values\n",
        "\n",
        "# Разделяем train на обучающую и валидационную выборки (например, 80/20)\n",
        "X_tr, X_val, y_tr, y_val = train_test_split(\n",
        "    X_train, activity, test_size=0.2, random_state=42\n",
        ")\n",
        "\n",
        "# Обучаем модель на тренировочных данных\n",
        "model_RandomForest = RandomForestRegressor(random_state=42)\n",
        "model_RandomForest.fit(X_tr, y_tr)\n",
        "\n",
        "# Предсказываем на валидационной выборке\n",
        "y_val_pred = model_RandomForest.predict(X_val)\n",
        "\n",
        "# Оцениваем качество\n",
        "print(\"Валидация на hold-out части train:\")\n",
        "print(f\"MSE: {mean_squared_error(y_val, y_val_pred):.4f}\")\n",
        "print(f\"RMSE: {np.sqrt(mean_squared_error(y_val, y_val_pred)):.4f}\")\n",
        "print(f\"MAE: {mean_absolute_error(y_val, y_val_pred):.4f}\")\n",
        "print(f\"R2: {r2_score(y_val, y_val_pred):.4f}\")\n"
      ]
    },
    {
      "cell_type": "markdown",
      "metadata": {},
      "source": [
        "#### 2) XGBoost"
      ]
    },
    {
      "cell_type": "code",
      "execution_count": 33,
      "metadata": {},
      "outputs": [
        {
          "name": "stdout",
          "output_type": "stream",
          "text": [
            "Валидация XGBRegressor на hold-out части train:\n",
            "MSE: 643.8240\n",
            "RMSE: 25.3737\n",
            "MAE: 19.1403\n",
            "R2: 0.4993\n"
          ]
        }
      ],
      "source": [
        "\n",
        "from sklearn.model_selection import train_test_split\n",
        "from sklearn.metrics import mean_squared_error, mean_absolute_error, r2_score\n",
        "\n",
        "# Создаём и обучаем модель на обучающей части\n",
        "model_xgboost = XGBRegressor(random_state=42)\n",
        "model_xgboost.fit(X_tr, y_tr)\n",
        "\n",
        "# Предсказываем на валидационной выборке\n",
        "y_val_pred = model_xgboost.predict(X_val)\n",
        "\n",
        "# Оцениваем качество модели\n",
        "print(\"Валидация XGBRegressor на hold-out части train:\")\n",
        "print(f\"MSE: {mean_squared_error(y_val, y_val_pred):.4f}\")\n",
        "print(f\"RMSE: {np.sqrt(mean_squared_error(y_val, y_val_pred)):.4f}\")\n",
        "print(f\"MAE: {mean_absolute_error(y_val, y_val_pred):.4f}\")\n",
        "print(f\"R2: {r2_score(y_val, y_val_pred):.4f}\")\n",
        "\n"
      ]
    },
    {
      "cell_type": "markdown",
      "metadata": {},
      "source": [
        "#### 3) SVR"
      ]
    },
    {
      "cell_type": "code",
      "execution_count": 34,
      "metadata": {},
      "outputs": [
        {
          "name": "stdout",
          "output_type": "stream",
          "text": [
            "Валидация SVR на hold-out части train:\n",
            "MSE: 1311.5036\n",
            "RMSE: 36.2147\n",
            "MAE: 29.3163\n",
            "R2: -0.0200\n"
          ]
        }
      ],
      "source": [
        "# Масштабируем признаки на обучающей выборке и применяем масштабирование к валидационной\n",
        "scaler = StandardScaler()\n",
        "X_tr_scaled = scaler.fit_transform(X_tr)\n",
        "X_val_scaled = scaler.transform(X_val)\n",
        "\n",
        "# Создаём и обучаем модель SVR на обучающей части\n",
        "model_svr = SVR(kernel='rbf', C=1.0, epsilon=0.1)\n",
        "model_svr.fit(X_tr_scaled, y_tr)\n",
        "\n",
        "# Предсказываем на валидационной выборке\n",
        "y_val_pred = model_svr.predict(X_val_scaled)\n",
        "\n",
        "# Оцениваем качество модели\n",
        "print(\"Валидация SVR на hold-out части train:\")\n",
        "print(f\"MSE: {mean_squared_error(y_val, y_val_pred):.4f}\")\n",
        "print(f\"RMSE: {np.sqrt(mean_squared_error(y_val, y_val_pred)):.4f}\")\n",
        "print(f\"MAE: {mean_absolute_error(y_val, y_val_pred):.4f}\")\n",
        "print(f\"R2: {r2_score(y_val, y_val_pred):.4f}\")\n",
        "\n"
      ]
    },
    {
      "cell_type": "markdown",
      "metadata": {},
      "source": [
        "Исходя из метрик:\n",
        "1) Лушая (наименьшая) RMSE у RandomForest. \n",
        "2) Модель объяснет только 53,76% дисперсии в данных. Не густо, но цифра привычная для химических задач. \n",
        "\n",
        "Попробуем оптимизировать и повысить показатели.\n",
        "\n",
        "# Улучшение показателей \n",
        "\n",
        "### - Изменим количество деревьев"
      ]
    },
    {
      "cell_type": "code",
      "execution_count": 35,
      "metadata": {},
      "outputs": [],
      "source": [
        "from sklearn.model_selection import train_test_split"
      ]
    },
    {
      "cell_type": "code",
      "execution_count": 36,
      "metadata": {},
      "outputs": [],
      "source": [
        "# Разбиваем данные на train и validation\n",
        "X_tr, X_val, y_tr, y_val = train_test_split(X_train, y_train, test_size=0.2, random_state=42)\n",
        "\n",
        "n_estimators_range = range(10, 501, 10)  # Проверяем от 10 до 500 деревьев с шагом 10\n",
        "rmse_list = []\n",
        "\n",
        "for n in n_estimators_range:\n",
        "    model = RandomForestRegressor(n_estimators=n, random_state=42)\n",
        "    model.fit(X_tr, y_tr)\n",
        "    y_pred = model.predict(X_val)\n",
        "    mse = mean_squared_error(y_val, y_pred)\n",
        "    rmse = np.sqrt(mse)\n",
        "    rmse_list.append(rmse)\n",
        "\n"
      ]
    },
    {
      "cell_type": "code",
      "execution_count": 41,
      "metadata": {},
      "outputs": [
        {
          "data": {
            "image/png": "[encoded data removed]",
            "text/plain": [
              "<Figure size 576x360 with 1 Axes>"
            ]
          },
          "metadata": {
            "needs_background": "light"
          },
          "output_type": "display_data"
        }
      ],
      "source": [
        "# Визуализация\n",
        "plt.figure(figsize=(8, 5))\n",
        "plt.plot(n_estimators_range, rmse_list, marker='o')\n",
        "plt.title('Зависимость RMSE от количества деревьев (n_estimators)')\n",
        "plt.xlabel('Количество деревьев (n_estimators)')\n",
        "plt.ylabel('RMSE на валидации')\n",
        "plt.grid(True)\n",
        "plt.show()"
      ]
    },
    {
      "cell_type": "markdown",
      "metadata": {},
      "source": []
    },
    {
      "cell_type": "markdown",
      "metadata": {},
      "source": [
        "Исходя из графика можно сделать вывод, что стоит зафиксировать n_estimators = 200. Это самый оптимальный вариант.\n",
        "\n",
        "Опробуем."
      ]
    },
    {
      "cell_type": "code",
      "execution_count": 42,
      "metadata": {},
      "outputs": [],
      "source": [
        "from sklearn.ensemble import RandomForestRegressor"
      ]
    },
    {
      "cell_type": "code",
      "execution_count": 43,
      "metadata": {},
      "outputs": [
        {
          "name": "stdout",
          "output_type": "stream",
          "text": [
            "Валидация на hold-out части train:\n",
            "MSE: 587.9575\n",
            "RMSE: 24.2478\n",
            "MAE: 18.7317\n",
            "R2: 0.5427\n"
          ]
        }
      ],
      "source": [
        "# Обучаем модель на тренировочных данных\n",
        "model_RandomForest = RandomForestRegressor(n_estimators=200,random_state=42)\n",
        "model_RandomForest.fit(X_tr, y_tr)\n",
        "\n",
        "# Предсказываем на валидационной выборке\n",
        "y_val_pred = model_RandomForest.predict(X_val)\n",
        "\n",
        "# Оцениваем качество\n",
        "print(\"Валидация на hold-out части train:\")\n",
        "print(f\"MSE: {mean_squared_error(y_val, y_val_pred):.4f}\")\n",
        "print(f\"RMSE: {np.sqrt(mean_squared_error(y_val, y_val_pred)):.4f}\")\n",
        "print(f\"MAE: {mean_absolute_error(y_val, y_val_pred):.4f}\")\n",
        "print(f\"R2: {r2_score(y_val, y_val_pred):.4f}\")"
      ]
    },
    {
      "cell_type": "markdown",
      "metadata": {},
      "source": [
        "Напомню, как выглядили показатели ранее:\n",
        "\n",
        "MSE: 594.5929\n",
        "\n",
        "RMSE: 24.3843\n",
        "\n",
        "MAE: 18.8686\n",
        "\n",
        "R2: 0.5376\n",
        "\n",
        "RMSE - снизился, что является улучшением модели. Модель теперь ошибается на 24.25 единицы активности.\n",
        "\n",
        "MAE - снизился, что является улучшением модели. Средняя ошибка составляет 18,73\n",
        "\n",
        "R2 - повысился, что является улучшением модели. 54,27% дисперсии в данных объясняется моделью.\n",
        "\n",
        "### - Ограничим глубину деревьев"
      ]
    },
    {
      "cell_type": "code",
      "execution_count": 44,
      "metadata": {},
      "outputs": [
        {
          "data": {
            "image/png": "[encoded data removed]",
            "text/plain": [
              "<Figure size 720x432 with 1 Axes>"
            ]
          },
          "metadata": {
            "needs_background": "light"
          },
          "output_type": "display_data"
        },
        {
          "name": "stdout",
          "output_type": "stream",
          "text": [
            "Лучший max_depth: 16, RMSE: 24.0643\n"
          ]
        }
      ],
      "source": [
        "depths = list(range(1, 31))  # Перебираем max_depth от 1 до 30\n",
        "rmse_scores = []\n",
        "\n",
        "for d in depths:\n",
        "    model = RandomForestRegressor(max_depth=d, random_state=42)\n",
        "    model.fit(X_tr, y_tr)\n",
        "    y_pred = model.predict(X_val)\n",
        "    rmse = np.sqrt(mean_squared_error(y_val, y_pred))\n",
        "    rmse_scores.append(rmse)\n",
        "\n",
        "# Построим график\n",
        "plt.figure(figsize=(10, 6))\n",
        "plt.plot(depths, rmse_scores, marker='o')\n",
        "plt.xlabel('max_depth')\n",
        "plt.ylabel('RMSE')\n",
        "plt.title('Подбор max_depth для RandomForest')\n",
        "plt.grid(True)\n",
        "plt.show()\n",
        "\n",
        "# Лучшее значение\n",
        "best_depth = depths[np.argmin(rmse_scores)]\n",
        "print(f\"Лучший max_depth: {best_depth}, RMSE: {min(rmse_scores):.4f}\")\n"
      ]
    },
    {
      "cell_type": "markdown",
      "metadata": {},
      "source": [
        "### - С помощью GridSearchCV подберем остальные параметры (регуляризация)"
      ]
    },
    {
      "cell_type": "code",
      "execution_count": 45,
      "metadata": {},
      "outputs": [],
      "source": [
        "from sklearn.model_selection import GridSearchCV, train_test_split"
      ]
    },
    {
      "cell_type": "code",
      "execution_count": 46,
      "metadata": {},
      "outputs": [
        {
          "name": "stdout",
          "output_type": "stream",
          "text": [
            "Fitting 3 folds for each of 18 candidates, totalling 54 fits\n",
            "Лучшие параметры: {'max_features': 'sqrt', 'min_samples_leaf': 1, 'min_samples_split': 2}\n"
          ]
        }
      ],
      "source": [
        "# Сетка параметров для перебора\n",
        "param_grid = {\n",
        "    'min_samples_split': [2, 5, 10],\n",
        "    'min_samples_leaf': [1, 2, 4],\n",
        "    'max_features': ['sqrt', 'log2']\n",
        "}\n",
        "\n",
        "# Создание модели\n",
        "rf = RandomForestRegressor(random_state=42)\n",
        "\n",
        "# Поиск по сетке\n",
        "grid_search = GridSearchCV(estimator=rf, param_grid=param_grid,\n",
        "                           scoring='neg_mean_squared_error', cv=3,\n",
        "                           n_jobs=-1, verbose=2)\n",
        "\n",
        "grid_search.fit(X_tr, y_tr)\n",
        "\n",
        "# Лучшая модель\n",
        "best_model = grid_search.best_estimator_\n",
        "\n",
        "print(f\"Лучшие параметры: {grid_search.best_params_}\")"
      ]
    },
    {
      "cell_type": "markdown",
      "metadata": {},
      "source": [
        "Объединим посчитанные параметры:"
      ]
    },
    {
      "cell_type": "code",
      "execution_count": 47,
      "metadata": {},
      "outputs": [
        {
          "name": "stdout",
          "output_type": "stream",
          "text": [
            "Валидация на hold-out части train:\n",
            "MSE: 709.5318\n",
            "RMSE: 26.6370\n",
            "MAE: 22.2125\n",
            "R2: 0.4482\n"
          ]
        }
      ],
      "source": [
        "# Обучаем модель на тренировочных данных\n",
        "model_RandomForest = RandomForestRegressor(\n",
        "    n_estimators = 200,\n",
        "    max_depth = 16,\n",
        "    max_features = 'sqrt',\n",
        "    random_state = 42,\n",
        "    min_samples_leaf = 1,\n",
        "    min_samples_split = 2)\n",
        "\n",
        "model_RandomForest.fit(X_tr, y_tr)\n",
        "\n",
        "# Предсказываем на валидационной выборке\n",
        "y_val_pred = model_RandomForest.predict(X_val)\n",
        "\n",
        "# Оцениваем качество\n",
        "print(\"Валидация на hold-out части train:\")\n",
        "print(f\"MSE: {mean_squared_error(y_val, y_val_pred):.4f}\")\n",
        "print(f\"RMSE: {np.sqrt(mean_squared_error(y_val, y_val_pred)):.4f}\")\n",
        "print(f\"MAE: {mean_absolute_error(y_val, y_val_pred):.4f}\")\n",
        "print(f\"R2: {r2_score(y_val, y_val_pred):.4f}\")"
      ]
    },
    {
      "cell_type": "markdown",
      "metadata": {},
      "source": [
        "Результраты критично ухудшились. Воспользуемся RandomizedSearchCV"
      ]
    },
    {
      "cell_type": "code",
      "execution_count": 48,
      "metadata": {},
      "outputs": [
        {
          "name": "stdout",
          "output_type": "stream",
          "text": [
            "Fitting 3 folds for each of 50 candidates, totalling 150 fits\n",
            "Лучшие параметры: {'bootstrap': False, 'max_depth': 29, 'max_features': 'sqrt', 'min_samples_leaf': 2, 'min_samples_split': 2, 'n_estimators': 403}\n"
          ]
        }
      ],
      "source": [
        "from sklearn.model_selection import RandomizedSearchCV, train_test_split\n",
        "from scipy.stats import randint\n",
        "\n",
        "# Случайная сетка параметров\n",
        "param_dist = {\n",
        "    'n_estimators': randint(100, 500),          # Кол-во деревьев\n",
        "    'max_depth': randint(5, 30),                # Максимальная глубина дерева\n",
        "    'min_samples_split': randint(2, 20),        # Мин. число объектов для разбиения\n",
        "    'min_samples_leaf': randint(1, 10),         # Мин. число объектов в листе\n",
        "    'max_features': ['sqrt', 'log2', None],     # Кол-во признаков при разбиении\n",
        "    'bootstrap': [True, False]                  # Использовать бэггинг или нет\n",
        "}\n",
        "\n",
        "# Модель\n",
        "rf = RandomForestRegressor(random_state=42)\n",
        "\n",
        "# Поиск по случайной сетке\n",
        "random_search = RandomizedSearchCV(\n",
        "    estimator=rf,\n",
        "    param_distributions=param_dist,\n",
        "    n_iter=50,                 \n",
        "    cv=3,\n",
        "    verbose=2,\n",
        "    random_state=42,\n",
        "    scoring='neg_mean_squared_error',\n",
        "    n_jobs=-1\n",
        ")\n",
        "\n",
        "# Обучение\n",
        "random_search.fit(X_tr, y_tr)\n",
        "\n",
        "# Лучшая модель\n",
        "best_rf = random_search.best_estimator_\n",
        "y_pred = best_rf.predict(X_val)\n",
        "\n",
        "# Вывод результатов\n",
        "print(f\"Лучшие параметры: {random_search.best_params_}\")\n",
        "\n"
      ]
    },
    {
      "cell_type": "markdown",
      "metadata": {},
      "source": [
        "Попробуем"
      ]
    },
    {
      "cell_type": "code",
      "execution_count": 49,
      "metadata": {},
      "outputs": [
        {
          "name": "stdout",
          "output_type": "stream",
          "text": [
            "Валидация на hold-out части train:\n",
            "MSE: 639.3130\n",
            "RMSE: 25.2846\n",
            "MAE: 20.6675\n",
            "R2: 0.5028\n"
          ]
        }
      ],
      "source": [
        "# Обучаем модель на тренировочных данных\n",
        "model_RandomForest = RandomForestRegressor(\n",
        "    n_estimators = 403,\n",
        "    max_depth = 29,\n",
        "    max_features = 'sqrt',\n",
        "    bootstrap = False,\n",
        "    random_state = 42,\n",
        "    min_samples_leaf = 2,\n",
        "    min_samples_split = 2)\n",
        "\n",
        "model_RandomForest.fit(X_tr, y_tr)\n",
        "\n",
        "# Предсказываем на валидационной выборке\n",
        "y_val_pred = model_RandomForest.predict(X_val)\n",
        "\n",
        "# Оцениваем качество\n",
        "print(\"Валидация на hold-out части train:\")\n",
        "print(f\"MSE: {mean_squared_error(y_val, y_val_pred):.4f}\")\n",
        "print(f\"RMSE: {np.sqrt(mean_squared_error(y_val, y_val_pred)):.4f}\")\n",
        "print(f\"MAE: {mean_absolute_error(y_val, y_val_pred):.4f}\")\n",
        "print(f\"R2: {r2_score(y_val, y_val_pred):.4f}\")"
      ]
    },
    {
      "cell_type": "markdown",
      "metadata": {},
      "source": [
        "Напомню, что все еще лучшим результатом были показатели: \n",
        "MSE: 587.9575\n",
        "RMSE: 24.2478\n",
        "MAE: 18.7317\n",
        "R2: 0.5427\n",
        "\n",
        "Таким образом, я останаовилась на таких параметрах:\n",
        "n_estimators=200,\n",
        "random_state=42,\n",
        "max_depth = 16\n",
        "\n",
        "При наличии бОльшего свободного времени попробовала бы поварьировать результаты в ручную."
      ]
    },
    {
      "cell_type": "code",
      "execution_count": 50,
      "metadata": {},
      "outputs": [
        {
          "name": "stdout",
          "output_type": "stream",
          "text": [
            "Валидация на hold-out части train:\n",
            "MSE: 580.9529\n",
            "RMSE: 24.1030\n",
            "MAE: 18.8770\n",
            "R2: 0.5482\n"
          ]
        }
      ],
      "source": [
        "# Обучаем модель на тренировочных данных\n",
        "model_RandomForest = RandomForestRegressor(\n",
        "    n_estimators = 200,\n",
        "    max_depth = 16,\n",
        "    random_state = 42)\n",
        "\n",
        "model_RandomForest.fit(X_tr, y_tr)\n",
        "\n",
        "# Предсказываем на валидационной выборке\n",
        "y_val_pred = model_RandomForest.predict(X_val)\n",
        "\n",
        "# Оцениваем качество\n",
        "print(\"Валидация на hold-out части train:\")\n",
        "print(f\"MSE: {mean_squared_error(y_val, y_val_pred):.4f}\")\n",
        "print(f\"RMSE: {np.sqrt(mean_squared_error(y_val, y_val_pred)):.4f}\")\n",
        "print(f\"MAE: {mean_absolute_error(y_val, y_val_pred):.4f}\")\n",
        "print(f\"R2: {r2_score(y_val, y_val_pred):.4f}\")\n"
      ]
    },
    {
      "cell_type": "markdown",
      "metadata": {},
      "source": [
        "Чууууток улучшили результат. Я на этом остановлюсь."
      ]
    },
    {
      "cell_type": "markdown",
      "metadata": {},
      "source": [
        "# Предсказываем активность"
      ]
    },
    {
      "cell_type": "code",
      "execution_count": 51,
      "metadata": {},
      "outputs": [
        {
          "name": "stdout",
          "output_type": "stream",
          "text": [
            "   Unnamed: 0                                             SMILES  \\\n",
            "0           0                                           CC(O)CCO   \n",
            "1           1                 CCCCOCCOC(=O)COC1=C(Cl)C=C(Cl)C=C1   \n",
            "2           2  CO/N=C(/C1=NOCCO1)\\C2=C(OC3=NC=NC(OC4=CC=CC=C4...   \n",
            "3           3                                C=CC(=O)NCNC(=O)C=C   \n",
            "4           4                         CC1=CC(=CC=C1)[N+]([O-])=O   \n",
            "\n",
            "   predicted_activity  \n",
            "0               11.02  \n",
            "1               82.14  \n",
            "2               68.01  \n",
            "3               10.09  \n",
            "4               41.57  \n"
          ]
        }
      ],
      "source": [
        "# Обучаем модель на всём обучающем наборе\n",
        "model_RandomForest = RandomForestRegressor(\n",
        "    n_estimators=200,\n",
        "    max_depth=16,\n",
        "    random_state=42\n",
        ")\n",
        "model_RandomForest.fit(X_train, train.activity)\n",
        "\n",
        "# Предсказания на тестовой выборке\n",
        "y_pred_test = model_RandomForest.predict(X_test)\n",
        "\n",
        "# Создание финального датафрейма\n",
        "final_df = test.copy()\n",
        "final_df['predicted_activity'] = y_pred_test.round(2)\n",
        "\n",
        "# Вывод \n",
        "print(final_df.head())"
      ]
    },
    {
      "cell_type": "markdown",
      "metadata": {},
      "source": [
        "Посмотрим на х-ки датасета:"
      ]
    },
    {
      "cell_type": "code",
      "execution_count": 52,
      "metadata": {},
      "outputs": [
        {
          "data": {
            "image/png": "[encoded data removed]",
            "text/plain": [
              "<Figure size 1080x288 with 2 Axes>"
            ]
          },
          "metadata": {
            "needs_background": "light"
          },
          "output_type": "display_data"
        },
        {
          "name": "stdout",
          "output_type": "stream",
          "text": [
            "Empty DataFrame\n",
            "Columns: [Unnamed: 0, SMILES, predicted_activity]\n",
            "Index: []\n",
            "Total outliers - 0\n"
          ]
        }
      ],
      "source": [
        "box_histplot(final_df, 'predicted_activity')\n",
        "outliers, cleaned = outliers_iqr(final_df, 'predicted_activity')\n",
        "print (outliers)\n",
        "print (f'Total outliers - {outliers.shape[0]}')"
      ]
    },
    {
      "cell_type": "markdown",
      "metadata": {},
      "source": [
        "Чтобы оценить качество предсказаний, нужны настоящие значения активности для тестовой выборки. У меня их нет. Поэтому ограничимся вышепредставленной оценкой.\n",
        "\n",
        "Во-первых, нет отрицательных значений. \n",
        "- RandomForest работает с любыми числами, а значит дело в том, что модель словно \"не замечает\" отрицательные значения. Почему?\n",
        "- Видимо их мало в тренировочной выборке. Давайте глянем еще раз на процент отрицательных значений в тренировочной выборке."
      ]
    },
    {
      "cell_type": "code",
      "execution_count": 53,
      "metadata": {},
      "outputs": [
        {
          "name": "stdout",
          "output_type": "stream",
          "text": [
            "Отрицательных значений: 49\n",
            "Положительных значений: 710\n",
            "Процент отрицательных значений: 6.46 %\n"
          ]
        }
      ],
      "source": [
        "neg = (train['activity'] < 0).sum()\n",
        "pos = (train['activity'] >= 0).sum()\n",
        "percent = neg*100/(neg+pos)\n",
        "print(f\"Отрицательных значений: {neg}\")\n",
        "print(f\"Положительных значений: {pos}\")\n",
        "print(f\"Процент отрицательных значений: {percent.round(2)} %\")\n"
      ]
    },
    {
      "cell_type": "markdown",
      "metadata": {},
      "source": [
        "Такая низкая доля действительно объясняет, почему Random Forest может \"игнорировать\" отрицательные значения в предсказаниях — особенно при усреднении по деревьям.\n",
        "\n",
        "Варианты решения:\n",
        "1) Исключить отрицательные значения вовсе, и поставить ограничение на способности предсказывать активность.\n",
        "3) Почитать про методы усиления редких классов.\n",
        "\n",
        "Так как я учусь, попробуем реализовать второй вариант.\n",
        "\n",
        "Методы усиления:\n",
        " - Oversampling (просто и быстро)\n",
        " - Дать больший вес редким значениям (использовать не могу с RandomForest)\n",
        " - Разделить выборку на отрицательных и положительных и подобрать разные регрессионные модели (долго и требует снова подбора параметров с нуля)\n",
        " - Использовать модель с градиентным бустингом (пробовали, они дают плохую предсказательную способность в нашем задании)\n",
        "\n",
        " Я попробую Oversampling"
      ]
    },
    {
      "cell_type": "code",
      "execution_count": 54,
      "metadata": {},
      "outputs": [],
      "source": [
        "# Отдельные подмножества\n",
        "neg_samples = train[train['activity'] < 0]\n",
        "pos_samples = train[train['activity'] >= 0]\n",
        "\n",
        "# Повторим отрицательные значения до нужного размера\n",
        "neg_oversampled = neg_samples.sample(n=len(pos_samples), replace=True, random_state=42)\n",
        "\n",
        "# Объединим заново\n",
        "train_balanced = pd.concat([pos_samples, neg_oversampled]).sample(frac=1, random_state=42)"
      ]
    },
    {
      "cell_type": "code",
      "execution_count": 58,
      "metadata": {},
      "outputs": [],
      "source": [
        "# y_train — вектор активности из train\n",
        "y_train = train_balanced.activity.values\n",
        "# Преобразование SMILES из train_balanced\n",
        "X_train = smiles_to_fp(train_balanced.SMILES)\n",
        "# Разделяем train на обучающую и валидационную выборки\n",
        "X_tr, X_val, y_tr, y_val = train_test_split(\n",
        "    X_train, y_train, test_size=0.2, random_state=42\n",
        ")\n"
      ]
    },
    {
      "cell_type": "code",
      "execution_count": 59,
      "metadata": {},
      "outputs": [
        {
          "name": "stdout",
          "output_type": "stream",
          "text": [
            "Валидация на hold-out части train:\n",
            "MSE: 360.4794\n",
            "RMSE: 18.9863\n",
            "MAE: 12.0719\n",
            "R2: 0.7239\n"
          ]
        }
      ],
      "source": [
        "# Обучаем модель на тренировочных данных\n",
        "model_RandomForest = RandomForestRegressor(\n",
        "    n_estimators = 200,\n",
        "    max_depth = 16,\n",
        "    random_state = 42)\n",
        "\n",
        "model_RandomForest.fit(X_tr, y_tr)\n",
        "\n",
        "# Предсказываем на валидационной выборке\n",
        "y_val_pred = model_RandomForest.predict(X_val)\n",
        "\n",
        "# Оцениваем качество\n",
        "print(\"Валидация на hold-out части train:\")\n",
        "print(f\"MSE: {mean_squared_error(y_val, y_val_pred):.4f}\")\n",
        "print(f\"RMSE: {np.sqrt(mean_squared_error(y_val, y_val_pred)):.4f}\")\n",
        "print(f\"MAE: {mean_absolute_error(y_val, y_val_pred):.4f}\")\n",
        "print(f\"R2: {r2_score(y_val, y_val_pred):.4f}\")"
      ]
    },
    {
      "cell_type": "markdown",
      "metadata": {},
      "source": [
        "Ух ты! Получилось еще и улучшить модель. Значительно. R2 вырос на 15%, а RMSE снизилось.\n",
        "\n",
        "Предсказываем:"
      ]
    },
    {
      "cell_type": "code",
      "execution_count": 60,
      "metadata": {},
      "outputs": [
        {
          "name": "stdout",
          "output_type": "stream",
          "text": [
            "   Unnamed: 0                                             SMILES  \\\n",
            "0           0                                           CC(O)CCO   \n",
            "1           1                 CCCCOCCOC(=O)COC1=C(Cl)C=C(Cl)C=C1   \n",
            "2           2  CO/N=C(/C1=NOCCO1)\\C2=C(OC3=NC=NC(OC4=CC=CC=C4...   \n",
            "3           3                                C=CC(=O)NCNC(=O)C=C   \n",
            "4           4                         CC1=CC(=CC=C1)[N+]([O-])=O   \n",
            "\n",
            "   predicted_activity  \n",
            "0                0.28  \n",
            "1               68.38  \n",
            "2               49.93  \n",
            "3               -0.67  \n",
            "4               41.10  \n"
          ]
        },
        {
          "data": {
            "image/png": "[encoded data removed]",
            "text/plain": [
              "<Figure size 1080x288 with 2 Axes>"
            ]
          },
          "metadata": {
            "needs_background": "light"
          },
          "output_type": "display_data"
        },
        {
          "name": "stdout",
          "output_type": "stream",
          "text": [
            "Empty DataFrame\n",
            "Columns: [Unnamed: 0, SMILES, predicted_activity]\n",
            "Index: []\n",
            "Total outliers - 0\n"
          ]
        }
      ],
      "source": [
        "# Обучаем модель на всём обучающем наборе\n",
        "model_RandomForest = RandomForestRegressor(\n",
        "    n_estimators=200,\n",
        "    max_depth=16,\n",
        "    random_state=42\n",
        ")\n",
        "model_RandomForest.fit(X_train, train_balanced.activity)\n",
        "\n",
        "# Предсказания на тестовой выборке\n",
        "y_pred_test = model_RandomForest.predict(X_test)\n",
        "\n",
        "# Создание финального датафрейма\n",
        "final_df = test.copy()\n",
        "final_df['predicted_activity'] = y_pred_test.round(2)\n",
        "\n",
        "# Вывод \n",
        "print(final_df.head())\n",
        "\n",
        "# Рассмотрим датасет\n",
        "box_histplot(final_df, 'predicted_activity')\n",
        "outliers, cleaned = outliers_iqr(final_df, 'predicted_activity')\n",
        "print (outliers)\n",
        "print (f'Total outliers - {outliers.shape[0]}')"
      ]
    },
    {
      "cell_type": "markdown",
      "metadata": {},
      "source": [
        "Готово! Выгружаю получившийся датасет"
      ]
    },
    {
      "cell_type": "code",
      "execution_count": 61,
      "metadata": {},
      "outputs": [],
      "source": [
        "final_df[['SMILES', 'predicted_activity']].to_csv(\"final_df.csv\", index=False)\n"
      ]
    }
  ],
  "metadata": {
    "colab": {
      "provenance": []
    },
    "kernelspec": {
      "display_name": "base",
      "language": "python",
      "name": "python3"
    },
    "language_info": {
      "codemirror_mode": {
        "name": "ipython",
        "version": 3
      },
      "file_extension": ".py",
      "mimetype": "text/x-python",
      "name": "python",
      "nbconvert_exporter": "python",
      "pygments_lexer": "ipython3",
      "version": "3.9.12"
    }
  },
  "nbformat": 4,
  "nbformat_minor": 0
}
